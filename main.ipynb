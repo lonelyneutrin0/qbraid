{
 "cells": [
  {
   "cell_type": "markdown",
   "id": "70afa757",
   "metadata": {},
   "source": [
    "# Operator Definitions\n",
    "We will define the fermionic creation and annihilation operators $c_j^{\\dagger}$ and $c_j$ respectively."
   ]
  },
  {
   "cell_type": "code",
   "execution_count": 6,
   "id": "d4d9f19c",
   "metadata": {},
   "outputs": [],
   "source": [
    "import numpy as np\n",
    "from dataclasses import dataclass, field\n",
    "from typing import List, Callable\n",
    "from numpy.typing import NDArray"
   ]
  },
  {
   "cell_type": "code",
   "execution_count": 7,
   "id": "d4572517",
   "metadata": {},
   "outputs": [],
   "source": [
    "Z = np.array([[1, 0], [0, -1]])\n",
    "creation_operator = np.array([[0, 0], [1, 0]])\n",
    "annihilation_operator = np.array([[0, 1], [0, 0]])"
   ]
  },
  {
   "cell_type": "code",
   "execution_count": 8,
   "id": "6322f3bc",
   "metadata": {},
   "outputs": [],
   "source": [
    "# Antisymmetry Confirmations for Fermionic Operators \n",
    "vacuum_state = np.array([1, 0])\n",
    "occupied_state = np.array([0, 1])\n",
    "\n",
    "# c† |0> = |1>\n",
    "assert((creation_operator @ vacuum_state == occupied_state).all())\n",
    "\n",
    "# c† |0> = NULL\n",
    "assert((creation_operator @ occupied_state == np.zeros(2,)).all())\n",
    "\n",
    "# c |1> = |0>\n",
    "assert((annihilation_operator @ occupied_state == vacuum_state).all())\n",
    "\n",
    "# c† |0> = NULL\n",
    "assert((annihilation_operator @ vacuum_state == np.zeros(2,)).all())\n",
    "\n",
    "# c†c + cc† = I\n",
    "assert((annihilation_operator @ creation_operator + creation_operator @ annihilation_operator == np.eye(2)).all())"
   ]
  },
  {
   "cell_type": "code",
   "execution_count": 9,
   "id": "e7d21324",
   "metadata": {},
   "outputs": [],
   "source": [
    "def creation_gate(i, N):\n",
    "    ops = np.eye(2**N)\n",
    "\n",
    "    for j in range(i):\n",
    "        Z_j = np.kron(np.eye(2**j), np.kron(Z, np.eye(2**(N-j-1))))\n",
    "        ops = ops @ Z_j\n",
    "    \n",
    "    c_i = np.kron(np.eye(2**i), np.kron(creation_operator, np.eye(2**(N-i-1))))\n",
    "    ops = ops @ c_i\n",
    "    \n",
    "    return ops\n",
    "\n",
    "def annihilation_gate(i, N): \n",
    "    ops = np.eye(2**N)\n",
    "\n",
    "    for j in range(i):\n",
    "        Z_j = np.kron(np.eye(2**j), np.kron(Z, np.eye(2**(N-j-1))))\n",
    "        ops = ops @ Z_j\n",
    "    \n",
    "    c_i = np.kron(np.eye(2**i), np.kron(annihilation_operator, np.eye(2**(N-i-1))))\n",
    "    ops = ops @ c_i\n",
    "    \n",
    "    return ops"
   ]
  },
  {
   "cell_type": "code",
   "execution_count": 10,
   "id": "eba971ae",
   "metadata": {},
   "outputs": [],
   "source": [
    "# Required Classes\n",
    "\n",
    "@dataclass \n",
    "class KitaevChain: \n",
    "    N: int\n",
    "    mu: Callable[[float], float]\n",
    "    Delta: Callable[[float], float]\n",
    "    h: Callable[[float], float]\n",
    "    t0: float\n",
    "    creations: NDArray = field(init=False)\n",
    "    annihilations: NDArray = field(init=False)\n",
    "    hamiltonian: NDArray = field(init=False)\n",
    "    chemical_potential_term: NDArray = field(init=False)\n",
    "    hopping_term: NDArray = field(init=False)\n",
    "    pairing_term: NDArray = field(init=False)\n",
    "    state_vector : NDArray = field(init=False)\n",
    "\n",
    "    def __post_init__(self):\n",
    "        # Create and store creation and annihilation operators for each fermionic mode\n",
    "        self.creations = np.zeros((self.N, 2**self.N, 2**self.N))\n",
    "        self.annihilations = np.zeros((self.N, 2**self.N, 2**self.N))\n",
    "        \n",
    "        for i in range(self.N): \n",
    "            self.creations[i] = (creation_gate(i, self.N))\n",
    "            self.annihilations[i] = (annihilation_gate(i, self.N))\n",
    "\n",
    "        # Favors or penalizes particle occupations depending on sign and magnitude of mu\n",
    "        self.chemical_potential_term = np.einsum('ijk,ilk->jk', self.creations, self.annihilations)\n",
    "\n",
    "        # Delocalizes fermion wavefunctions, allows them to spread apart on the chain\n",
    "        self.hopping_term = (\n",
    "            np.einsum('ijk, ilk -> jk', self.creations[:self.N-1], self.annihilations[1:self.N])\n",
    "            + np.einsum('ijk, ilk -> jk', self.creations[1:self.N], self.annihilations[:self.N-1])\n",
    "        )\n",
    "        \n",
    "        # p-wave superconducting correlations, where electrons pair across neighboring sites\n",
    "        self.pairing_term = ( \n",
    "            np.einsum('ijk, ilk -> jk', self.annihilations[:self.N-1], self.annihilations[1:self.N])\n",
    "            + np.einsum('ijk, ilk -> jk', self.creations[1:self.N], self.creations[:self.N-1])\n",
    "        )\n",
    "\n",
    "        self.hamiltonian = (\n",
    "            -self.mu(self.t0) * self.chemical_potential_term \n",
    "            - self.h(self.t0) * self.hopping_term \n",
    "            + self.Delta(self.t0) * self.pairing_term\n",
    "            )\n",
    "\n",
    "        self.state_vector = np.zeros(2**self.N,)\n",
    "        self.state_vector[0] = 1\n",
    "\n",
    "    def evolve(self, t): \n",
    "        pass\n",
    "\n",
    "    def __repr__(self): \n",
    "        return f'{self.__class__.__name__} with {self.N} fermionic modes'"
   ]
  }
 ],
 "metadata": {
  "kernelspec": {
   "display_name": "venv",
   "language": "python",
   "name": "python3"
  },
  "language_info": {
   "codemirror_mode": {
    "name": "ipython",
    "version": 3
   },
   "file_extension": ".py",
   "mimetype": "text/x-python",
   "name": "python",
   "nbconvert_exporter": "python",
   "pygments_lexer": "ipython3",
   "version": "3.11.9"
  }
 },
 "nbformat": 4,
 "nbformat_minor": 5
}
