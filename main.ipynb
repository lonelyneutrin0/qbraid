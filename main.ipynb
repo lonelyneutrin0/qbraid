{
 "cells": [
  {
   "cell_type": "code",
   "execution_count": 140,
   "id": "d4d9f19c",
   "metadata": {},
   "outputs": [],
   "source": [
    "import numpy as np\n",
    "from dataclasses import dataclass, field\n",
    "from typing import Callable\n",
    "from numpy.typing import NDArray\n",
    "from opt_einsum import contract"
   ]
  },
  {
   "cell_type": "markdown",
   "id": "e1235545",
   "metadata": {},
   "source": [
    "Let's define the required matrices, Pauli-Z, fermionic creation, and annihilation operators.\n",
    "$$Z = \\begin{pmatrix} \n",
    "1 & 0 \\\\ 0 & -1\n",
    "\\end{pmatrix}, c^{\\dagger} = \\begin{pmatrix} 0 & 0 \\\\ 1 & 0 \\end{pmatrix}, c = \\begin{pmatrix}0 & 1 \\\\ 0 & 0\\end{pmatrix}$$"
   ]
  },
  {
   "cell_type": "code",
   "execution_count": 141,
   "id": "d4572517",
   "metadata": {},
   "outputs": [],
   "source": [
    "Z = np.array([[1, 0], [0, -1]], dtype=complex)\n",
    "creation_operator = np.array([[0, 0], [1, 0]], dtype=complex)\n",
    "annihilation_operator = np.array([[0, 1], [0, 0]], dtype=complex)"
   ]
  },
  {
   "cell_type": "markdown",
   "id": "8bc89055",
   "metadata": {},
   "source": [
    "Let's confirm the antisymmetry for the fermionic operators, namely for vacuum states $\\Psi_0$ and occupied states $\\Psi$ -\n",
    "$$c^{\\dagger}\\Psi_0 = \\Psi$$ \n",
    "$$c \\Psi = \\Psi_0$$ \n",
    "$$c^\\dagger \\Psi = 0$$ \n",
    "$$c \\Psi_0 = 0$$ \n",
    "$$c^\\dagger c + c c^\\dagger = I$$"
   ]
  },
  {
   "cell_type": "code",
   "execution_count": 142,
   "id": "6322f3bc",
   "metadata": {},
   "outputs": [],
   "source": [
    "# Antisymmetry Confirmations for Fermionic Operators \n",
    "vacuum_state = np.array([1, 0])\n",
    "occupied_state = np.array([0, 1])\n",
    "\n",
    "# c† |0> = |1>\n",
    "assert((creation_operator @ vacuum_state == occupied_state).all())\n",
    "\n",
    "# c† |0> = NULL\n",
    "assert((creation_operator @ occupied_state == np.zeros(2,)).all())\n",
    "\n",
    "# c |1> = |0>\n",
    "assert((annihilation_operator @ occupied_state == vacuum_state).all())\n",
    "\n",
    "# c† |0> = NULL\n",
    "assert((annihilation_operator @ vacuum_state == np.zeros(2,)).all())\n",
    "\n",
    "# c†c + cc† = I\n",
    "assert((annihilation_operator @ creation_operator + creation_operator @ annihilation_operator == np.eye(2)).all())"
   ]
  },
  {
   "cell_type": "markdown",
   "id": "0d0a88aa",
   "metadata": {},
   "source": [
    "The above defined matrices are for single-fermion Hilbert space. To extend it to n-fermion Hilbert space in the Fock Basis, we'll construct a Jordan-Wigner string to map fermionic operators to spin operators.\n",
    "$$c^{\\dagger}_j = Z_0 \\otimes Z_1 \\otimes \\cdots Z_{j-1} \\otimes c^{\\dagger} \\otimes I_{i+1} \\otimes \\cdots I_{N-1}$$ \n",
    "$$c_j = Z_0 \\otimes Z_1 \\otimes \\cdots Z_{j-1} \\otimes c \\otimes I_{i+1} \\otimes \\cdots I_{N-1}$$ "
   ]
  },
  {
   "cell_type": "code",
   "execution_count": 143,
   "id": "e7d21324",
   "metadata": {},
   "outputs": [],
   "source": [
    "import functools\n",
    "\n",
    "def creation_gate(i, N):\n",
    "    ops = []\n",
    "\n",
    "    for j in range(N):\n",
    "        if j < i:\n",
    "            ops.append(Z)\n",
    "        elif j == i:\n",
    "            ops.append(creation_operator)\n",
    "        else: \n",
    "            ops.append(np.eye(2))\n",
    "    \n",
    "    return functools.reduce(np.kron, ops)\n",
    "\n",
    "def annihilation_gate(i, N): \n",
    "    ops = []\n",
    "\n",
    "    for j in range(N):\n",
    "        if j < i:\n",
    "            ops.append(Z)\n",
    "        elif j == i:\n",
    "            ops.append(annihilation_operator)\n",
    "        else: \n",
    "            ops.append(np.eye(2))\n",
    "    \n",
    "    return functools.reduce(np.kron, ops)"
   ]
  },
  {
   "cell_type": "markdown",
   "id": "cbd3d3c2",
   "metadata": {},
   "source": [
    "We'll be building Kitaev Chains in multiple bases. Let's build an abstract class to define its core features - "
   ]
  },
  {
   "cell_type": "code",
   "execution_count": 144,
   "id": "27806f39",
   "metadata": {},
   "outputs": [],
   "source": [
    "from abc import ABC, abstractmethod\n",
    "import matplotlib.pyplot as plt \n",
    "\n",
    "@dataclass\n",
    "class KitaevChain(ABC): \n",
    "    N: int\n",
    "    mu: Callable[[float], float]\n",
    "    Delta: Callable[[float], float]\n",
    "    h: Callable[[float], float]\n",
    "    t0: float\n",
    "    hamiltonian: NDArray = field(init=False)\n",
    "    state_vector : NDArray = field(init=False)\n",
    "\n",
    "    @abstractmethod\n",
    "    def __post_init__():\n",
    "        pass\n",
    "\n",
    "    @abstractmethod\n",
    "    def evolve(t): \n",
    "        pass\n",
    "\n",
    "    def vis(self, tol=1e-6): \n",
    "        eigvals, eigvecs = np.linalg.eigh(self.hamiltonian)\n",
    "\n",
    "        zero_indices = np.where(np.abs(eigvals) < tol)[0]\n",
    "        \n",
    "        if len(zero_indices) == 0:\n",
    "            print(\"No zero modes found.\")\n",
    "            return\n",
    "\n",
    "        print(\"Zero mode indices:\", zero_indices)\n",
    "        print(\"Zero mode energies:\", eigvals[zero_indices])\n",
    "\n",
    "        # Prepare heatmap data\n",
    "        heatmap_data = np.zeros((len(zero_indices), self.N))\n",
    "\n",
    "        for row, idx in enumerate(zero_indices):\n",
    "            vec = eigvecs[:, idx]\n",
    "            vec /= np.linalg.norm(vec)  # Normalize just in case\n",
    "\n",
    "            for site in range(self.N):\n",
    "                mask = 1 << site\n",
    "                for basis_index in range(len(vec)):\n",
    "                    if basis_index & mask:\n",
    "                        heatmap_data[row, site] += np.abs(vec[basis_index])**2\n",
    "\n",
    "        # Plot using matplotlib's imshow\n",
    "        plt.figure(figsize=(10, 2 + 0.3 * len(zero_indices)))\n",
    "        plt.imshow(heatmap_data, aspect='auto', cmap='inferno', origin='lower')\n",
    "        plt.colorbar(label='Occupation Probability')\n",
    "        plt.xticks(ticks=np.arange(self.N), labels=np.arange(self.N))\n",
    "        plt.yticks(ticks=np.arange(len(zero_indices)), labels=[f'Mode {i}' for i in zero_indices])\n",
    "        plt.xlabel(\"Site Index\")\n",
    "        plt.ylabel(\"Zero Mode Index\")\n",
    "        plt.title(\"Zero Mode Localization Heatmap\")\n",
    "        plt.tight_layout()\n",
    "        plt.show()"
   ]
  },
  {
   "cell_type": "markdown",
   "id": "77e4435d",
   "metadata": {},
   "source": [
    "Let's build the Fock Basis Hamiltonian - \n",
    "$$\\hat H_c = -\\mu \\sum_{j=1}^N \\left ( c_j^{\\dagger}c_j - \\frac12 \\right ) - t\\sum_{j=1}^{N-1} (c_j^{\\dagger}c_{j+1} + c_{j+1}^\\dagger c_j) + |\\Delta| \\sum_{j=1}^{N-1} (c_jc_{j+1} + c^{\\dagger}_{j+1} c_j^{\\dagger})$$ "
   ]
  },
  {
   "cell_type": "code",
   "execution_count": 145,
   "id": "eba971ae",
   "metadata": {},
   "outputs": [],
   "source": [
    "@dataclass \n",
    "class KitaevChainFock(KitaevChain): \n",
    "    creations: NDArray = field(init=False)\n",
    "    annihilations: NDArray = field(init=False)\n",
    "    chemical_potential_term: NDArray = field(init=False)\n",
    "    hopping_term: NDArray = field(init=False)\n",
    "    pairing_term: NDArray = field(init=False)\n",
    "\n",
    "    def __post_init__(self):\n",
    "        # Create and store creation and annihilation operators for each fermionic mode\n",
    "        self.creations = np.zeros((self.N, 2**self.N, 2**self.N), dtype=complex)\n",
    "        self.annihilations = np.zeros((self.N, 2**self.N, 2**self.N), dtype=complex)\n",
    "\n",
    "        for i in range(self.N): \n",
    "            self.creations[i] = (creation_gate(i, self.N))\n",
    "            self.annihilations[i] = (annihilation_gate(i, self.N))\n",
    "\n",
    "        self.chemical_potential_term = np.zeros((2**self.N, 2**self.N), dtype=complex) \n",
    "        self.hopping_term = np.zeros_like(self.chemical_potential_term)\n",
    "        self.pairing_term = np.zeros_like(self.chemical_potential_term)\n",
    "\n",
    "        for i in range(self.N-1):\n",
    "            self.hopping_term += self.creations[i] @ self.annihilations[i+1] + self.creations[i+1] @ self.annihilations[i]\n",
    "            self.pairing_term += self.annihilations[i] @ self.annihilations[i+1] + self.creations[i+1] @ self.creations[i]\n",
    "\n",
    "            self.chemical_potential_term += self.creations[i] @ self.annihilations[i] - 0.5 * np.eye(2**self.N)\n",
    "\n",
    "        self.chemical_potential_term += self.creations[self.N - 1] @ self.annihilations[self.N - 1] - 0.5 * np.eye(2**self.N) \n",
    "\n",
    "\n",
    "        self.hamiltonian = (\n",
    "            -self.mu(self.t0) * (self.chemical_potential_term - (self.N/2) * np.eye(2**self.N))\n",
    "            - self.h(self.t0) * self.hopping_term \n",
    "            + self.Delta(self.t0) * self.pairing_term\n",
    "            )\n",
    "\n",
    "        self.state_vector = np.zeros(2**self.N,)\n",
    "        self.state_vector[0] = 1\n",
    "\n",
    "    def evolve(self, t): \n",
    "        pass"
   ]
  },
  {
   "cell_type": "markdown",
   "id": "15b5b027",
   "metadata": {},
   "source": [
    "This basis is not too convenient for our use case. Let's switch to Majorana operators, which are defined as linear combinations of the fermionic creation and annihilation operators."
   ]
  },
  {
   "cell_type": "markdown",
   "id": "918491d5",
   "metadata": {},
   "source": [
    "$$\\gamma_{j}^\\alpha = c_j + c_j^{\\dagger}$$\n",
    "$$\\gamma_{j}^\\beta = i(c_j^\\dagger - c_j)$$ \n",
    "These operators are Hermitian and anticommute - \n",
    "$$\\gamma_j^\\alpha = {\\gamma_j^\\alpha}^\\dagger$$ \n",
    "$$\\gamma_i^\\alpha\\gamma_j^\\beta = 2\\delta_{ij}\\delta_{\\alpha \\beta}$$\n",
    "Using this, the Kitaev Hamiltonian in the Majorana basis becomes \n",
    "$$\\hat H_\\gamma = -\\frac{i\\mu}{2} \\sum_{j=1}^N \\gamma_j^\\beta\\gamma_j^\\alpha + \\frac{i}{2}\\sum_{j=1}^{N-1}(\\omega_{+} \\gamma_j^\\beta \\gamma_{j+1}^\\alpha + \\omega_{-}\\gamma_{j+1}^\\beta\\gamma_j^\\alpha)$$ \n",
    "where $\\omega_{\\pm} = t \\pm \\Delta$. As $|\\Delta| \\to 0$, we enter the trivial phase, where Majorana operators are coupled. As $\\mu \\to 0$ and $|\\Delta| \\to t$, our Hamiltonian becomes $$\\hat H_\\gamma = it \\sum_{j=1}^{N-1} \\gamma_j^\\beta \\gamma_{j+1}^\\alpha$$\n",
    "In other words, every Majorana operator is coupled to a different type of operator at a different site. If we reintroduce fermionic creation and annihilation operators as $$\\tilde{c}_j = \\frac12 (\\gamma_j^\\beta + i \\gamma_j^\\alpha)$$ \n",
    "our Hamiltonian becomes \n",
    "$$\\hat H_{\\tilde{c}} = 2t \\sum_{j=1}^{N-1}\\left (\\tilde{c}_j^\\dagger\\tilde{c}_j + \\frac12 \\right )$$\n",
    "which gives us $N-1$ nodes. The last node is the topologically-protected Majorana Zero Mode (MZM). Because it is a zero mode, it doesn't require any energy and does not appear in the Hamiltonian expression. The Majorana zero mode is given by the following linear combination of Majorana operators - \n",
    "$$c^* = \\frac12 (\\gamma_{N}^\\beta + i\\gamma_1^\\alpha)$$\n",
    "As you can see, the first and last sites of the chain are involved. This means that the mode is highly delocalized. It is this delocalization that provides topological protection against local perturbations, making the MZM the most promising type of qubit for fault-tolerant quantum computing. "
   ]
  },
  {
   "cell_type": "code",
   "execution_count": 146,
   "id": "ca09cb67",
   "metadata": {},
   "outputs": [],
   "source": [
    "@dataclass\n",
    "class KitaevChainMajorana(KitaevChain): \n",
    "    alpha_majoranas: NDArray = field(init=False)\n",
    "    beta_majoranas: NDArray = field(init=False)\n",
    "    chemical_potential_term: NDArray = field(init=False)\n",
    "    hopping_term: NDArray = field(init=False)\n",
    "    pairing_term: NDArray = field(init=False)\n",
    "\n",
    "    def __post_init__(self):\n",
    "        creations = np.zeros((self.N, 2**self.N, 2**self.N), dtype=complex)\n",
    "        annihilations = np.zeros((self.N, 2**self.N, 2**self.N), dtype=complex)\n",
    "\n",
    "        for i in range(self.N): \n",
    "            creations[i] = (creation_gate(i, self.N))\n",
    "            annihilations[i] = (annihilation_gate(i, self.N))\n",
    "\n",
    "        self.alpha_majoranas = np.zeros((self.N, 2**self.N, 2**self.N), dtype=complex)\n",
    "        self.beta_majoranas = np.zeros((self.N, 2**self.N, 2**self.N), dtype=complex)\n",
    "\n",
    "        for i in range(self.N): \n",
    "            self.alpha_majoranas[i] = creations[i] + annihilations[i]\n",
    "            self.beta_majoranas[i] = 1j * (creations[i] - annihilations[i])\n",
    "        \n",
    "        self.chemical_potential_term = np.zeros((2**self.N, 2**self.N), dtype=complex)\n",
    "        self.hopping_term = np.zeros((2**self.N, 2**self.N), dtype=complex)\n",
    "        self.pairing_term = np.zeros((2**self.N, 2**self.N), dtype=complex)\n",
    "\n",
    "        for j in range(self.N - 1):\n",
    "            self.hopping_term +=  self.beta_majoranas[j] @ self.alpha_majoranas[j+1]\n",
    "            self.pairing_term +=  self.beta_majoranas[j+1] @ self.alpha_majoranas[j]\n",
    "\n",
    "        for j in range(self.N):\n",
    "            self.chemical_potential_term += self.beta_majoranas[j] @ self.alpha_majoranas[j]\n",
    "\n",
    "        self.hamiltonian = (\n",
    "            0.5j * (-self.mu(self.t0) * self.chemical_potential_term\n",
    "                    + (self.h(self.t0) + self.Delta(self.t0)) * self.hopping_term \n",
    "                    + (self.h(self.t0) - self.Delta(self.t0)) * self.pairing_term)\n",
    "        )\n",
    "\n",
    "    def evolve(self, t):\n",
    "        pass"
   ]
  },
  {
   "cell_type": "code",
   "execution_count": 163,
   "id": "1f85304d",
   "metadata": {},
   "outputs": [],
   "source": [
    "mu = lambda t: 0 \n",
    "t = lambda t: 1\n",
    "Delta = lambda t: 0.8\n",
    "\n",
    "fock_chain = KitaevChainFock(\n",
    "    N=10,\n",
    "    mu=mu,\n",
    "    h=t,\n",
    "    Delta=Delta,\n",
    "    t0=2\n",
    ")\n",
    "\n",
    "majorana_chain = KitaevChainMajorana( \n",
    "    N=10,\n",
    "    mu=mu, \n",
    "    h=t, \n",
    "    Delta=Delta,\n",
    "    t0=2\n",
    ")"
   ]
  },
  {
   "cell_type": "code",
   "execution_count": 166,
   "id": "eb432844",
   "metadata": {},
   "outputs": [
    {
     "data": {
      "image/png": "[encoded data removed]",
      "text/plain": [
       "<Figure size 640x480 with 1 Axes>"
      ]
     },
     "metadata": {},
     "output_type": "display_data"
    }
   ],
   "source": [
    "fock_eigvals = np.linalg.eigvalsh(fock_chain.hamiltonian)\n",
    "majorana_eigvals = np.linalg.eigvalsh(majorana_chain.hamiltonian)\n",
    "plt.plot(fock_eigvals, 'o', label='Fock Basis')\n",
    "plt.plot(majorana_eigvals, '+', label=\"Majorana Basis\")\n",
    "plt.axhline(0, color='r', linestyle='--')\n",
    "plt.title(\"Energy Spectrum of Kitaev Chain\")\n",
    "plt.xlabel(\"Eigenstate index\")\n",
    "plt.ylabel(\"Energy\")\n",
    "plt.grid(True)\n",
    "plt.show()"
   ]
  },
  {
   "cell_type": "code",
   "execution_count": null,
   "id": "269fd2a2",
   "metadata": {},
   "outputs": [],
   "source": []
  }
 ],
 "metadata": {
  "kernelspec": {
   "display_name": "venv",
   "language": "python",
   "name": "python3"
  },
  "language_info": {
   "codemirror_mode": {
    "name": "ipython",
    "version": 3
   },
   "file_extension": ".py",
   "mimetype": "text/x-python",
   "name": "python",
   "nbconvert_exporter": "python",
   "pygments_lexer": "ipython3",
   "version": "3.11.9"
  }
 },
 "nbformat": 4,
 "nbformat_minor": 5
}
