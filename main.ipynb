{
 "cells": [
  {
   "cell_type": "markdown",
   "id": "70afa757",
   "metadata": {},
   "source": [
    "# Operator Definitions\n",
    "We will define the fermionic creation and annihilation operators $c_j^{\\dagger}$ and $c_j$ respectively."
   ]
  },
  {
   "cell_type": "code",
   "execution_count": 37,
   "id": "d4d9f19c",
   "metadata": {},
   "outputs": [],
   "source": [
    "import numpy as np\n",
    "from dataclasses import dataclass, field\n",
    "from numpy.typing import NDArray\n",
    "from scipy.sparse import csr_matrix, identity\n",
    "from typing import List"
   ]
  },
  {
   "cell_type": "code",
   "execution_count": 38,
   "id": "d4572517",
   "metadata": {},
   "outputs": [],
   "source": [
    "Z = np.array([[1, 0], [0, -1]])\n",
    "creation_operator = np.array([[0, 0], [1, 0]])\n",
    "annihilation_operator = np.array([[0, 1], [0, 0]])"
   ]
  },
  {
   "cell_type": "code",
   "execution_count": 39,
   "id": "6322f3bc",
   "metadata": {},
   "outputs": [],
   "source": [
    "# Antisymmetry Confirmations for Fermionic Operators \n",
    "vacuum_state = np.array([1, 0])\n",
    "occupied_state = np.array([0, 1])\n",
    "\n",
    "# c† |0> = |1>\n",
    "assert((creation_operator @ vacuum_state == occupied_state).all())\n",
    "\n",
    "# c† |0> = NULL\n",
    "assert((creation_operator @ occupied_state == np.zeros(2,)).all())\n",
    "\n",
    "# c |1> = |0>\n",
    "assert((annihilation_operator @ occupied_state == vacuum_state).all())\n",
    "\n",
    "# c† |0> = NULL\n",
    "assert((annihilation_operator @ vacuum_state == csr_matrix(np.zeros(2,))).all())\n",
    "\n",
    "# c†c + cc† = I\n",
    "assert((annihilation_operator @ creation_operator + creation_operator @ annihilation_operator == np.eye(2)).all())"
   ]
  },
  {
   "cell_type": "code",
   "execution_count": 40,
   "id": "e7d21324",
   "metadata": {},
   "outputs": [],
   "source": [
    "def creation_gate(i, N):\n",
    "    ops = np.eye(2**N)\n",
    "\n",
    "    for j in range(i):\n",
    "        Z_j = np.kron(np.eye(2**j), np.kron(Z, np.eye(2**(N-j-1))))\n",
    "        ops = ops @ Z_j\n",
    "    \n",
    "    c_i = np.kron(np.eye(2**i), np.kron(creation_operator, np.eye(2**(N-i-1))))\n",
    "    ops = ops @ c_i\n",
    "    \n",
    "    return csr_matrix(ops)\n",
    "\n",
    "def annihilation_gate(i, N): \n",
    "    ops = np.eye(2**N)\n",
    "\n",
    "    for j in range(i):\n",
    "        Z_j = np.kron(np.eye(2**j), np.kron(Z, np.eye(2**(N-j-1))))\n",
    "        ops = ops @ Z_j\n",
    "    \n",
    "    c_i = np.kron(np.eye(2**i), np.kron(annihilation_operator, np.eye(2**(N-i-1))))\n",
    "    ops = ops @ c_i\n",
    "    \n",
    "    return csr_matrix(ops)"
   ]
  },
  {
   "cell_type": "code",
   "execution_count": 53,
   "id": "eba971ae",
   "metadata": {},
   "outputs": [],
   "source": [
    "# Required Classes\n",
    "@dataclass \n",
    "class KitaevChain: \n",
    "    N: int\n",
    "    creations: List[csr_matrix] = field(init=False)\n",
    "    annihilations: List[csr_matrix] = field(init=False)\n",
    "    state_vector : csr_matrix = field(init=False)\n",
    "\n",
    "    def __post_init__(self):\n",
    "        # Create and store creation and annihilation operators for each fermionic mode\n",
    "        self.creations = []\n",
    "        self.annihilations = []\n",
    "        \n",
    "\n",
    "        for i in range(self.N): \n",
    "            self.creations.append(creation_gate(i, self.N))\n",
    "            self.annihilations.append(annihilation_gate(i, self.N))\n",
    "\n",
    "        self.state_vector = np.zeros(2**self.N,)\n",
    "        self.state_vector[0] = 1\n",
    "        self.state_vector = csr_matrix(self.state_vector).T\n",
    "            \n",
    "    def __repr__(self): \n",
    "        return f'{self.__class__.__name__} with {self.N} fermionic modes'"
   ]
  }
 ],
 "metadata": {
  "kernelspec": {
   "display_name": "venv",
   "language": "python",
   "name": "python3"
  },
  "language_info": {
   "codemirror_mode": {
    "name": "ipython",
    "version": 3
   },
   "file_extension": ".py",
   "mimetype": "text/x-python",
   "name": "python",
   "nbconvert_exporter": "python",
   "pygments_lexer": "ipython3",
   "version": "3.11.9"
  }
 },
 "nbformat": 4,
 "nbformat_minor": 5
}
